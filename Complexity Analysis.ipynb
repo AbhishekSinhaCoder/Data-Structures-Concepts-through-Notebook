{
 "cells": [
  {
   "cell_type": "markdown",
   "metadata": {},
   "source": [
    "Complexity Analysis\n",
    "\n",
    "In order to express the complexity of an algorithm, we can count the number of machine instructions or basic operations that will execute as a function of the input parameters. Counting the operations can give us the running time $T(n)$. This can be simplfied to give us the complexity, $\\mathcal{O}$ or big-Oh, by removing constants from the equation that would have a small impact on the overall complexity for very large values of $n$.\n",
    "\n"
   ]
  },
  {
   "cell_type": "markdown",
   "metadata": {},
   "source": [
    "## 1. Complexity in Python\n",
    "\n",
    "The complexity of an algorithm depends on the number of basic operations it contains. In this first exercise you will evaluate the complexity of simple Python functions - instead of algorithms. The idea is the same as algorithm analysis: identify the operations, count them. Take particular care of the loops.\n",
    "Here is an example:"
   ]
  },
  {
   "cell_type": "code",
   "execution_count": 1,
   "metadata": {},
   "outputs": [],
   "source": [
    "def function_a (n) :\n",
    "    print(\"hello\")\n",
    "    for i in range(n):\n",
    "        print(\"n = \", n, \"; i=\", i) \n",
    "    print (\" bye \")"
   ]
  },
  {
   "cell_type": "code",
   "execution_count": 2,
   "metadata": {},
   "outputs": [
    {
     "name": "stdout",
     "output_type": "stream",
     "text": [
      "hello\n",
      "n =  4 ; i= 0\n",
      "n =  4 ; i= 1\n",
      "n =  4 ; i= 2\n",
      "n =  4 ; i= 3\n",
      " bye \n"
     ]
    }
   ],
   "source": [
    "function_a(4)"
   ]
  },
  {
   "cell_type": "markdown",
   "metadata": {},
   "source": [
    "The program enters n times in the loop \\-  checking the loop condition takes 1 operation (incrementing *i*). The program does only 1 operation every time it enters the loop \\- we have 1 * n operations here. Outside the loop there are 2 simple instructions (one before and one after) which do only 1 operation each."
   ]
  },
  {
   "cell_type": "code",
   "execution_count": 3,
   "metadata": {},
   "outputs": [],
   "source": [
    "def function_a(n):\n",
    "    print(\"hello\")          #1 operation\n",
    "    for i in range(n):      #2 operation (assignment) per loop, N loops\n",
    "        print(\"n = \", n)    #1 operation per loop, N operations\n",
    "    print(\"bye\")            #1 operation "
   ]
  },
  {
   "cell_type": "markdown",
   "metadata": {},
   "source": [
    "The running time of this algorithm is computed as follows: every operation with a \"per loop\" gives a factor of n: here 2 operations, so *3n*; every operation without a \"per loop\" gives you a value without an _n_: here 2. So in total, T(n)=3n + 2 meaning it is $\\mathcal{O}$(n).\n",
    "\n",
    "In the cell below we have a _magic_ command. These are notebook and not python commands. %%time will request that the OS times the execution of the cell for us and returns it in the cells output."
   ]
  },
  {
   "cell_type": "code",
   "execution_count": 4,
   "metadata": {},
   "outputs": [
    {
     "name": "stdout",
     "output_type": "stream",
     "text": [
      "starting for 3000 loops\n",
      "max n= 3000\n",
      "CPU times: user 267 ms, sys: 5.83 ms, total: 273 ms\n",
      "Wall time: 271 ms\n"
     ]
    }
   ],
   "source": [
    "%%time\n",
    "\n",
    "def function_b(n):\n",
    "    print(\"starting for\",n, \"loops\")          #1 operation\n",
    "    for i in range(n):                        #2 operation (assignment) per loop, N loops\n",
    "        for j in range(n):                        #2 operation (assignment) per loop, N loops\n",
    "            max=n                             #1 operation per loop, N operations\n",
    "    print(\"max n=\",n)                         #1 operation \n",
    "\n",
    "a=3000\n",
    "function_b(a)"
   ]
  },
  {
   "cell_type": "markdown",
   "metadata": {},
   "source": [
    "We can run the cell repeatedly, changing the value for a. I have done 7 example tests below and recoded the times. I then used the matplotlib (which intalls by default as part of anaconda) to plot $n$ against $t$."
   ]
  },
  {
   "cell_type": "code",
   "execution_count": 5,
   "metadata": {},
   "outputs": [
    {
     "data": {
      "image/png": "[encoded data removed]",
      "text/plain": [
       "<Figure size 432x288 with 1 Axes>"
      ]
     },
     "metadata": {
      "needs_background": "light"
     },
     "output_type": "display_data"
    }
   ],
   "source": [
    "n=[10,100,1000,3000,5000,8000, 10000]\n",
    "\n",
    "t=[444e-6,619e-6,37.3e-3,340e-3,907e-3,2.45,3.72]\n",
    "\n",
    "%matplotlib inline  \n",
    "import matplotlib.pyplot as plt\n",
    "plt.plot(n,t)\n",
    "plt.show()"
   ]
  },
  {
   "cell_type": "markdown",
   "metadata": {},
   "source": [
    "Now do the same for the following 5 programs, labelling the operations and running for various values of $n$ and $m$ to validate the big-$\\mathcal{O}$ experimentally. Watch out for the loop definitions."
   ]
  },
  {
   "cell_type": "code",
   "execution_count": 6,
   "metadata": {},
   "outputs": [],
   "source": [
    "def function_1(n):\n",
    "    for i in range(11):\n",
    "        print(i*n)"
   ]
  },
  {
   "cell_type": "code",
   "execution_count": 7,
   "metadata": {},
   "outputs": [],
   "source": [
    "def function_2(n):\n",
    "    s=1\n",
    "    for i in range(n):\n",
    "        s=s+i**2\n",
    "    return s"
   ]
  },
  {
   "cell_type": "code",
   "execution_count": 8,
   "metadata": {},
   "outputs": [],
   "source": [
    "def function_3(n):\n",
    "    s=1\n",
    "    for i in range(n):\n",
    "        for j in range(n):\n",
    "            s=s+i*j\n",
    "    return s"
   ]
  },
  {
   "cell_type": "code",
   "execution_count": 9,
   "metadata": {},
   "outputs": [],
   "source": [
    "def function_4(n,m):\n",
    "    i=1;j=1\n",
    "    opcount=2\n",
    "    while i<=n and j<=m:\n",
    "        i=i+1\n",
    "        j=j+1\n",
    "        opcount+=2\n",
    "    return opcount"
   ]
  },
  {
   "cell_type": "code",
   "execution_count": 10,
   "metadata": {},
   "outputs": [],
   "source": [
    "def function_5(n,m):\n",
    "    i=1;j=1;s=1\n",
    "    while i<=n:\n",
    "        if j<=m:\n",
    "            s=s*j\n",
    "            j=j+1\n",
    "        else:\n",
    "            s=s+i\n",
    "            i=i+1\n",
    "    return s"
   ]
  },
  {
   "cell_type": "markdown",
   "metadata": {},
   "source": [
    "Run these programs with different values of the $n$ and $m$ parameters. Pick one and experiment on plotting the times. Does the graph match the big-$\\mathcal{O}$ you expected?"
   ]
  },
  {
   "cell_type": "markdown",
   "metadata": {},
   "source": [
    "### Automatic Time (Run-time performance) measuring\n",
    "Note that the candidate functions have some patterns in their signature (in other words, signature describe what and how many input the function expects). For instance function 1 to 3 expect only 1 input; 4 and 5 expect 2 numbers. So it is possible to construct a looping program to test all input ranges for all functions, so that we don't have to test manually and record the running time manually."
   ]
  },
  {
   "cell_type": "code",
   "execution_count": 11,
   "metadata": {},
   "outputs": [
    {
     "name": "stdout",
     "output_type": "stream",
     "text": [
      "testing function_1 with the automatic measure\n",
      "run-time for function 1 result in nanoseconds: \n",
      "[5800724.029541016, 3230571.746826172, 3318786.62109375, 2918243.408203125, 2870559.6923828125, 2851486.2060546875, 2820491.7907714844]\n"
     ]
    }
   ],
   "source": [
    "import time\n",
    "def automatic_time(input_array, func_name):\n",
    "    # input_array contains all elements of input,\n",
    "    #   preferably sorted from small to big,\n",
    "    #   each element could also be a tuple, which is requried\n",
    "    #   for functions that need more than 1 input\n",
    "    # func_name is the name of the function (as object, not str)\n",
    "    # this function also suppresses printing output from the {func_name}\n",
    "    ret = []\n",
    "    for val in input_array:\n",
    "        start = time.time()\n",
    "        from IPython.utils import io as iuio\n",
    "        with iuio.capture_output() as suppressed:\n",
    "            if isinstance(val, tuple):\n",
    "                _ = func_name(*val)\n",
    "            else:\n",
    "                _ = func_name(val)\n",
    "                \n",
    "        ret.append((time.time() - start)*10e9) # 10e9 converts unit from second to nanosecond\n",
    "    return ret\n",
    "\n",
    "my_input_arr = [10,100,1000,3000,5000,8000, 10000]\n",
    "print(\"testing function_1 with the automatic measure\")\n",
    "print(\"run-time for function 1 result in nanoseconds: \\n{}\".format(automatic_time(my_input_arr, function_1)))\n",
    "        "
   ]
  },
  {
   "cell_type": "markdown",
   "metadata": {},
   "source": [
    "So now we can construct a bigger loop to automate the rest:"
   ]
  },
  {
   "cell_type": "code",
   "execution_count": 12,
   "metadata": {},
   "outputs": [
    {
     "data": {
      "image/png": "[encoded data removed]",
      "text/plain": [
       "<Figure size 432x288 with 1 Axes>"
      ]
     },
     "metadata": {
      "needs_background": "light"
     },
     "output_type": "display_data"
    }
   ],
   "source": [
    "input_arr = [i for i in range(1000, 100000, 1000)]\n",
    "\n",
    "# input_arr_t = [(i,i) for i in range(1, 1000)]\n",
    "\n",
    "# fun1 = automatic_time(input_arr, function_1)\n",
    "fun2 = automatic_time(input_arr, function_2)\n",
    "# fun3 = automatic_time(input_arr, function_3)\n",
    "# fun4 = automatic_time(input_arr_t, function_4)\n",
    "# fun5 = automatic_time(input_arr_t, function_5)\n",
    "\n",
    "plt.plot(input_arr, fun2)\n",
    "plt.xlabel(\"input size\")\n",
    "plt.ylabel(\"running time in nanoseconds\")\n",
    "plt.show()\n"
   ]
  }
 ],
 "metadata": {
  "kernelspec": {
   "display_name": "Python 3",
   "language": "python",
   "name": "python3"
  },
  "language_info": {
   "codemirror_mode": {
    "name": "ipython",
    "version": 3
   },
   "file_extension": ".py",
   "mimetype": "text/x-python",
   "name": "python",
   "nbconvert_exporter": "python",
   "pygments_lexer": "ipython3",
   "version": "3.7.3"
  }
 },
 "nbformat": 4,
 "nbformat_minor": 4
}
